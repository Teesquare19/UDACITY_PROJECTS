{
 "cells": [
  {
   "cell_type": "markdown",
   "metadata": {},
   "source": [
    "## Reporting: wragle_report"
   ]
  },
  {
   "cell_type": "markdown",
   "metadata": {},
   "source": [
    "### Details\n",
    "The\ttasks\tof\tthis\tproject\tare\tas\tfollows:\n",
    "• Gathering\tdata\n",
    "• Assessing\tdata\t\n",
    "• Cleaning\tdata\n",
    "Gathering\tdata\n",
    "\n",
    "\n",
    "The\tdata\tfor\tthis\tproject\tconsist\ton\tthree\tdifferent\tdataset\tthat\twere\tobtained\tas\tfollowing:\n",
    "1. Twitter archive file:  This was downloaded manually after clicking the following link: twitter_archive_enhanced.csv and then loaded into pandas dataframe.\n",
    "\n",
    "2. The tweet image predictions, i.e., what breed of dog (or other object, animal, etc.) is present in each tweet according to a neural network. This file (image_predictions.tsv) is hosted on Udacity's servers and should be downloaded programmatically using the Requests library and the following URL: https://d17h27t6h515a5.cloudfront.net/topher/2017/August/599fd2ad_image-predictions/image-predictions.tsv. \n",
    "\n",
    "3. Twitter API & JSON: Due to technical reasons this could not be assessed through twitter's API and tweepy, hence the file was loaded into jupyter using the `tweet-json.txt`\n",
    "\n",
    "Once\tthe\tthree\ttables\twere\tobtained\tI\tassessed the\tdata\tas\tfollowing:\n",
    "\n",
    "• Visually,\t I\t used\t two\t tools.\t One\t was\t by\t printing\t the\t three entire dataframes\t separate in\t Jupyter\t Notebook\t and\t two\t by\t checking\t the\t csv\tfiles\tin\tExcel.\n",
    "\n",
    "• Programmatically,\t by\t using\t different\t methods\t (e.g.\t info,\t value_counts,\tsample,\tduplicated,\tgroupby,\tetc).\n",
    "\n",
    "Then\tI\tidentified the\tissues\tencountered\tboth quality\tissues\tand\ttidiness\tissues.\t\n",
    "\n",
    "It is very important to note that for\tthis\tprocess\twas\tthat\toriginal\tratings\twith\timages\t were\twanted.\t\n",
    "\n",
    "\n",
    "### Cleaning\tdata\n",
    "This\tpart\tof\tthe\tdata\twrangling\twas\tdivided\tin\tthree\tparts:\tDefine,\tcode\tand\ttest the\t code.\n",
    "\n",
    "These\t three\t steps\twere\t on each\t of\t the\tissues\t described in\t the\tassess\tsection.\t\n",
    "\n",
    "At the foremost, I \tcreated\ta\tcopy\tof\tthe\tthree\toriginal\tdataframes.\tI\twrote\tthe\tcodes to\tmanipulate\tthe\tcopies.\n",
    "\n",
    "- Drop observations in `archive_copy` for reply and retweet, by deleting the rows with values present in`in_reply_to_status_id` and `retweeted_status_id`.\n",
    "\n",
    "- Drop columns in `df_archive_copy` dataframe : `retweeted_status_id` , `retweeted_status_user_id`, `retweeted_status_timestamp`, `in_reply_to_status_id`, `in_reply_to_user_id`.\n",
    "\n",
    "- In df_archive table; change data type of Column tweet_id from int64 to object, and datatype of timestamp from object to datatime. Also, In df_image; change datatype of tweet_id from int to object.\n",
    "\n",
    "- Merge each category in stages of dog doggo, floofer, pupper, puppo as one column in the df_archive_clean table. Drop doggo, floofer, pupper, puppo.\n",
    "\n",
    "-  Replace these invalid names with None; Some dog names under the name column do not lok like valid names. Many missing names from the list as a result of being either 'None', and random names like 'a' and 'an'. \n",
    "\n",
    "- Correcting irregularities in Some dog breed name i.e: some names in columns p1, p2, and p3 starts with Upper case, while some start with lower case, this can be corrected by maintaining a standard name system, and then create a new column for dog type and confidence level from p1, p2, p3.\n",
    "\n",
    "- Replace underscore '_'  with space in dog type names using the replace function.\n",
    "\n",
    "- In the df_tweet table,  renaming column id_str to tweet_id so has to maintain consistent data names, this will be done using the rename function.\n",
    "\n",
    "- Making the source column readable by replacing the urls in it by the source name and change its datatype to category.\n",
    "\n",
    "- Correct inconsistencies in the rating_numerator and rating_denominator column in the df_archive\n",
    "\t\n",
    "- There\twere a\tcouple\t of\tcleaning\t steps\t that\twere\t very\tchallenging.\tOne\t of\t them\t was\tin\tthe\t`df_image`. The original\t table\thad\t three\t predictions and confidence\tlevels.\t This had to be filtered this into one\t column for\tdog\ttype and\tone\tcolumn\tfor\tconfidence\tlevel.\t\t\t"
   ]
  }
 ],
 "metadata": {
  "kernelspec": {
   "display_name": "Python 3 (ipykernel)",
   "language": "python",
   "name": "python3"
  },
  "language_info": {
   "codemirror_mode": {
    "name": "ipython",
    "version": 3
   },
   "file_extension": ".py",
   "mimetype": "text/x-python",
   "name": "python",
   "nbconvert_exporter": "python",
   "pygments_lexer": "ipython3",
   "version": "3.9.7"
  }
 },
 "nbformat": 4,
 "nbformat_minor": 2
}
